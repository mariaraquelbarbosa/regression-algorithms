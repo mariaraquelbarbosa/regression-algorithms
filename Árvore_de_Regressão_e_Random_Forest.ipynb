{
  "nbformat": 4,
  "nbformat_minor": 0,
  "metadata": {
    "colab": {
      "provenance": []
    },
    "kernelspec": {
      "name": "python3",
      "display_name": "Python 3"
    },
    "language_info": {
      "name": "python"
    }
  },
  "cells": [
    {
      "cell_type": "markdown",
      "source": [
        "# **Árvore de Regressão e Random Forest**\n",
        "\n",
        "* Parte 1: Entendimento e divisão do dataset\n",
        "* Parte 2: Aplicação do algoritmo DecisionTreeRegressor\n",
        "* Parte 3: Avaliação de desempenho\n",
        "* Parte 4: Aplicação do algoritmo RandomForest\n",
        "* Parte 5: Avaliação de desempenho"
      ],
      "metadata": {
        "id": "76sGji413ExK"
      }
    },
    {
      "cell_type": "markdown",
      "source": [
        "# <font color=yellow>**Parte 1**: Entendimento e divisão do dataset"
      ],
      "metadata": {
        "id": "vkjIjGGUa3YC"
      }
    },
    {
      "cell_type": "markdown",
      "source": [
        "Definição das variáveis\n",
        "- year: ano (0: 2011, 1: 2012)\n",
        "- month: mês (1 a 12)\n",
        "- holiday: dado boleano indicando se o dia é feriado ou não\n",
        "- weekday: dia da semana\n",
        "- workingday: dado boleano indicando se é dia útil ou não\n",
        "- temp: temperatura normalizada em graus Celsius\n",
        "- feeling_temp: sensação térmica normalizada em graus Celsius\n",
        "- humidity: umidade normalizada\n",
        "- windspeed: velocidade do vento normalizada\n",
        "- total_rental_bikes: contagem total de bicicletas alugadas\n",
        "- season_: variável dummy indicando estação do ano\n",
        "- weathersit_: variável dummy indicando condição climática"
      ],
      "metadata": {
        "id": "oIqdNuuC3iQD"
      }
    },
    {
      "cell_type": "code",
      "source": [
        "import pandas as pd\n",
        "\n",
        "# Leitura da base de dados\n",
        "df = pd.read_csv('bike_rent.csv')\n",
        "df.head()"
      ],
      "metadata": {
        "id": "1WqayzNKTLZA",
        "colab": {
          "base_uri": "https://localhost:8080/",
          "height": 270
        },
        "outputId": "89bf8594-b369-44ff-fa76-2e9af9d07eb5"
      },
      "execution_count": null,
      "outputs": [
        {
          "output_type": "execute_result",
          "data": {
            "text/plain": [
              "   year  month  holiday  weekday  workingday      temp  feeling_temp  \\\n",
              "0     0      1        0        6           0  0.344167      0.363625   \n",
              "1     0      1        0        0           0  0.363478      0.353739   \n",
              "2     0      1        0        1           1  0.196364      0.189405   \n",
              "3     0      1        0        2           1  0.200000      0.212122   \n",
              "4     0      1        0        3           1  0.226957      0.229270   \n",
              "\n",
              "   humidity  windspeed  total_rental_bikes  season_Fall  season_Spring  \\\n",
              "0  0.805833   0.160446                 985            0              1   \n",
              "1  0.696087   0.248539                 801            0              1   \n",
              "2  0.437273   0.248309                1349            0              1   \n",
              "3  0.590435   0.160296                1562            0              1   \n",
              "4  0.436957   0.186900                1600            0              1   \n",
              "\n",
              "   season_Summer  season_Winter  weathersit_Clear  weathersit_Mist  \\\n",
              "0              0              0                 0                1   \n",
              "1              0              0                 0                1   \n",
              "2              0              0                 1                0   \n",
              "3              0              0                 1                0   \n",
              "4              0              0                 1                0   \n",
              "\n",
              "   weathersit_Snow  \n",
              "0                0  \n",
              "1                0  \n",
              "2                0  \n",
              "3                0  \n",
              "4                0  "
            ],
            "text/html": [
              "\n",
              "  <div id=\"df-e1fa7b41-6c8c-4608-a52c-848b4906729c\">\n",
              "    <div class=\"colab-df-container\">\n",
              "      <div>\n",
              "<style scoped>\n",
              "    .dataframe tbody tr th:only-of-type {\n",
              "        vertical-align: middle;\n",
              "    }\n",
              "\n",
              "    .dataframe tbody tr th {\n",
              "        vertical-align: top;\n",
              "    }\n",
              "\n",
              "    .dataframe thead th {\n",
              "        text-align: right;\n",
              "    }\n",
              "</style>\n",
              "<table border=\"1\" class=\"dataframe\">\n",
              "  <thead>\n",
              "    <tr style=\"text-align: right;\">\n",
              "      <th></th>\n",
              "      <th>year</th>\n",
              "      <th>month</th>\n",
              "      <th>holiday</th>\n",
              "      <th>weekday</th>\n",
              "      <th>workingday</th>\n",
              "      <th>temp</th>\n",
              "      <th>feeling_temp</th>\n",
              "      <th>humidity</th>\n",
              "      <th>windspeed</th>\n",
              "      <th>total_rental_bikes</th>\n",
              "      <th>season_Fall</th>\n",
              "      <th>season_Spring</th>\n",
              "      <th>season_Summer</th>\n",
              "      <th>season_Winter</th>\n",
              "      <th>weathersit_Clear</th>\n",
              "      <th>weathersit_Mist</th>\n",
              "      <th>weathersit_Snow</th>\n",
              "    </tr>\n",
              "  </thead>\n",
              "  <tbody>\n",
              "    <tr>\n",
              "      <th>0</th>\n",
              "      <td>0</td>\n",
              "      <td>1</td>\n",
              "      <td>0</td>\n",
              "      <td>6</td>\n",
              "      <td>0</td>\n",
              "      <td>0.344167</td>\n",
              "      <td>0.363625</td>\n",
              "      <td>0.805833</td>\n",
              "      <td>0.160446</td>\n",
              "      <td>985</td>\n",
              "      <td>0</td>\n",
              "      <td>1</td>\n",
              "      <td>0</td>\n",
              "      <td>0</td>\n",
              "      <td>0</td>\n",
              "      <td>1</td>\n",
              "      <td>0</td>\n",
              "    </tr>\n",
              "    <tr>\n",
              "      <th>1</th>\n",
              "      <td>0</td>\n",
              "      <td>1</td>\n",
              "      <td>0</td>\n",
              "      <td>0</td>\n",
              "      <td>0</td>\n",
              "      <td>0.363478</td>\n",
              "      <td>0.353739</td>\n",
              "      <td>0.696087</td>\n",
              "      <td>0.248539</td>\n",
              "      <td>801</td>\n",
              "      <td>0</td>\n",
              "      <td>1</td>\n",
              "      <td>0</td>\n",
              "      <td>0</td>\n",
              "      <td>0</td>\n",
              "      <td>1</td>\n",
              "      <td>0</td>\n",
              "    </tr>\n",
              "    <tr>\n",
              "      <th>2</th>\n",
              "      <td>0</td>\n",
              "      <td>1</td>\n",
              "      <td>0</td>\n",
              "      <td>1</td>\n",
              "      <td>1</td>\n",
              "      <td>0.196364</td>\n",
              "      <td>0.189405</td>\n",
              "      <td>0.437273</td>\n",
              "      <td>0.248309</td>\n",
              "      <td>1349</td>\n",
              "      <td>0</td>\n",
              "      <td>1</td>\n",
              "      <td>0</td>\n",
              "      <td>0</td>\n",
              "      <td>1</td>\n",
              "      <td>0</td>\n",
              "      <td>0</td>\n",
              "    </tr>\n",
              "    <tr>\n",
              "      <th>3</th>\n",
              "      <td>0</td>\n",
              "      <td>1</td>\n",
              "      <td>0</td>\n",
              "      <td>2</td>\n",
              "      <td>1</td>\n",
              "      <td>0.200000</td>\n",
              "      <td>0.212122</td>\n",
              "      <td>0.590435</td>\n",
              "      <td>0.160296</td>\n",
              "      <td>1562</td>\n",
              "      <td>0</td>\n",
              "      <td>1</td>\n",
              "      <td>0</td>\n",
              "      <td>0</td>\n",
              "      <td>1</td>\n",
              "      <td>0</td>\n",
              "      <td>0</td>\n",
              "    </tr>\n",
              "    <tr>\n",
              "      <th>4</th>\n",
              "      <td>0</td>\n",
              "      <td>1</td>\n",
              "      <td>0</td>\n",
              "      <td>3</td>\n",
              "      <td>1</td>\n",
              "      <td>0.226957</td>\n",
              "      <td>0.229270</td>\n",
              "      <td>0.436957</td>\n",
              "      <td>0.186900</td>\n",
              "      <td>1600</td>\n",
              "      <td>0</td>\n",
              "      <td>1</td>\n",
              "      <td>0</td>\n",
              "      <td>0</td>\n",
              "      <td>1</td>\n",
              "      <td>0</td>\n",
              "      <td>0</td>\n",
              "    </tr>\n",
              "  </tbody>\n",
              "</table>\n",
              "</div>\n",
              "      <button class=\"colab-df-convert\" onclick=\"convertToInteractive('df-e1fa7b41-6c8c-4608-a52c-848b4906729c')\"\n",
              "              title=\"Convert this dataframe to an interactive table.\"\n",
              "              style=\"display:none;\">\n",
              "        \n",
              "  <svg xmlns=\"http://www.w3.org/2000/svg\" height=\"24px\"viewBox=\"0 0 24 24\"\n",
              "       width=\"24px\">\n",
              "    <path d=\"M0 0h24v24H0V0z\" fill=\"none\"/>\n",
              "    <path d=\"M18.56 5.44l.94 2.06.94-2.06 2.06-.94-2.06-.94-.94-2.06-.94 2.06-2.06.94zm-11 1L8.5 8.5l.94-2.06 2.06-.94-2.06-.94L8.5 2.5l-.94 2.06-2.06.94zm10 10l.94 2.06.94-2.06 2.06-.94-2.06-.94-.94-2.06-.94 2.06-2.06.94z\"/><path d=\"M17.41 7.96l-1.37-1.37c-.4-.4-.92-.59-1.43-.59-.52 0-1.04.2-1.43.59L10.3 9.45l-7.72 7.72c-.78.78-.78 2.05 0 2.83L4 21.41c.39.39.9.59 1.41.59.51 0 1.02-.2 1.41-.59l7.78-7.78 2.81-2.81c.8-.78.8-2.07 0-2.86zM5.41 20L4 18.59l7.72-7.72 1.47 1.35L5.41 20z\"/>\n",
              "  </svg>\n",
              "      </button>\n",
              "      \n",
              "  <style>\n",
              "    .colab-df-container {\n",
              "      display:flex;\n",
              "      flex-wrap:wrap;\n",
              "      gap: 12px;\n",
              "    }\n",
              "\n",
              "    .colab-df-convert {\n",
              "      background-color: #E8F0FE;\n",
              "      border: none;\n",
              "      border-radius: 50%;\n",
              "      cursor: pointer;\n",
              "      display: none;\n",
              "      fill: #1967D2;\n",
              "      height: 32px;\n",
              "      padding: 0 0 0 0;\n",
              "      width: 32px;\n",
              "    }\n",
              "\n",
              "    .colab-df-convert:hover {\n",
              "      background-color: #E2EBFA;\n",
              "      box-shadow: 0px 1px 2px rgba(60, 64, 67, 0.3), 0px 1px 3px 1px rgba(60, 64, 67, 0.15);\n",
              "      fill: #174EA6;\n",
              "    }\n",
              "\n",
              "    [theme=dark] .colab-df-convert {\n",
              "      background-color: #3B4455;\n",
              "      fill: #D2E3FC;\n",
              "    }\n",
              "\n",
              "    [theme=dark] .colab-df-convert:hover {\n",
              "      background-color: #434B5C;\n",
              "      box-shadow: 0px 1px 3px 1px rgba(0, 0, 0, 0.15);\n",
              "      filter: drop-shadow(0px 1px 2px rgba(0, 0, 0, 0.3));\n",
              "      fill: #FFFFFF;\n",
              "    }\n",
              "  </style>\n",
              "\n",
              "      <script>\n",
              "        const buttonEl =\n",
              "          document.querySelector('#df-e1fa7b41-6c8c-4608-a52c-848b4906729c button.colab-df-convert');\n",
              "        buttonEl.style.display =\n",
              "          google.colab.kernel.accessAllowed ? 'block' : 'none';\n",
              "\n",
              "        async function convertToInteractive(key) {\n",
              "          const element = document.querySelector('#df-e1fa7b41-6c8c-4608-a52c-848b4906729c');\n",
              "          const dataTable =\n",
              "            await google.colab.kernel.invokeFunction('convertToInteractive',\n",
              "                                                     [key], {});\n",
              "          if (!dataTable) return;\n",
              "\n",
              "          const docLinkHtml = 'Like what you see? Visit the ' +\n",
              "            '<a target=\"_blank\" href=https://colab.research.google.com/notebooks/data_table.ipynb>data table notebook</a>'\n",
              "            + ' to learn more about interactive tables.';\n",
              "          element.innerHTML = '';\n",
              "          dataTable['output_type'] = 'display_data';\n",
              "          await google.colab.output.renderOutput(dataTable, element);\n",
              "          const docLink = document.createElement('div');\n",
              "          docLink.innerHTML = docLinkHtml;\n",
              "          element.appendChild(docLink);\n",
              "        }\n",
              "      </script>\n",
              "    </div>\n",
              "  </div>\n",
              "  "
            ]
          },
          "metadata": {},
          "execution_count": 19
        }
      ]
    },
    {
      "cell_type": "code",
      "source": [
        "# Definindo as variáveis independentes e a variável dependente\n",
        "y = df.loc[:,'total_rental_bikes'].values\n",
        "X = df.drop(['total_rental_bikes'], axis='columns').values"
      ],
      "metadata": {
        "id": "6hE9DQZVUFS4"
      },
      "execution_count": null,
      "outputs": []
    },
    {
      "cell_type": "markdown",
      "source": [
        "![image.png](data:image/png;base64,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)"
      ],
      "metadata": {
        "id": "p94yJJBYx-35"
      }
    },
    {
      "cell_type": "code",
      "source": [
        "from sklearn.model_selection import train_test_split\n",
        "\n",
        "# Dividindo a base de dados em treino e teste\n",
        "X_train, X_test, y_train, y_test = train_test_split(X, y, test_size = 0.05)"
      ],
      "metadata": {
        "id": "JAy6B3R7VO73"
      },
      "execution_count": null,
      "outputs": []
    },
    {
      "cell_type": "markdown",
      "source": [
        "# <font color=yellow>**Parte 2**: Aplicação do algoritmo DecisionTreeRegressor"
      ],
      "metadata": {
        "id": "YOau6CXpWRZl"
      }
    },
    {
      "cell_type": "code",
      "source": [
        "from sklearn.tree import DecisionTreeRegressor\n",
        "\n",
        "# Criando a classe DecisionTreeRegressor()\n",
        "regressor = DecisionTreeRegressor()\n",
        "\n",
        "# Ajustando o algoritmo a base de dados\n",
        "regressor.fit(X_train, y_train)\n",
        "\n",
        "# Prevendo os resultados\n",
        "y_pred = regressor.predict(X_test)"
      ],
      "metadata": {
        "id": "uSYASIgeVXND"
      },
      "execution_count": null,
      "outputs": []
    },
    {
      "cell_type": "code",
      "source": [
        "# Comparando os valores reais com os valores previstos\n",
        "df = pd.DataFrame({'Real Values':y_test, 'Predicted Values':y_pred})\n",
        "df.head()"
      ],
      "metadata": {
        "colab": {
          "base_uri": "https://localhost:8080/",
          "height": 206
        },
        "id": "gN875uADVjKo",
        "outputId": "fe33075a-d954-4279-8832-0bd0bb7d3173"
      },
      "execution_count": null,
      "outputs": [
        {
          "output_type": "execute_result",
          "data": {
            "text/plain": [
              "   Real Values  Predicted Values\n",
              "0         4990            6572.0\n",
              "1         5409            6460.0\n",
              "2         1416            1406.0\n",
              "3         2455            2999.0\n",
              "4         3811            3570.0"
            ],
            "text/html": [
              "\n",
              "  <div id=\"df-8c779187-d25b-44bd-bc44-efeac020f75e\">\n",
              "    <div class=\"colab-df-container\">\n",
              "      <div>\n",
              "<style scoped>\n",
              "    .dataframe tbody tr th:only-of-type {\n",
              "        vertical-align: middle;\n",
              "    }\n",
              "\n",
              "    .dataframe tbody tr th {\n",
              "        vertical-align: top;\n",
              "    }\n",
              "\n",
              "    .dataframe thead th {\n",
              "        text-align: right;\n",
              "    }\n",
              "</style>\n",
              "<table border=\"1\" class=\"dataframe\">\n",
              "  <thead>\n",
              "    <tr style=\"text-align: right;\">\n",
              "      <th></th>\n",
              "      <th>Real Values</th>\n",
              "      <th>Predicted Values</th>\n",
              "    </tr>\n",
              "  </thead>\n",
              "  <tbody>\n",
              "    <tr>\n",
              "      <th>0</th>\n",
              "      <td>4990</td>\n",
              "      <td>6572.0</td>\n",
              "    </tr>\n",
              "    <tr>\n",
              "      <th>1</th>\n",
              "      <td>5409</td>\n",
              "      <td>6460.0</td>\n",
              "    </tr>\n",
              "    <tr>\n",
              "      <th>2</th>\n",
              "      <td>1416</td>\n",
              "      <td>1406.0</td>\n",
              "    </tr>\n",
              "    <tr>\n",
              "      <th>3</th>\n",
              "      <td>2455</td>\n",
              "      <td>2999.0</td>\n",
              "    </tr>\n",
              "    <tr>\n",
              "      <th>4</th>\n",
              "      <td>3811</td>\n",
              "      <td>3570.0</td>\n",
              "    </tr>\n",
              "  </tbody>\n",
              "</table>\n",
              "</div>\n",
              "      <button class=\"colab-df-convert\" onclick=\"convertToInteractive('df-8c779187-d25b-44bd-bc44-efeac020f75e')\"\n",
              "              title=\"Convert this dataframe to an interactive table.\"\n",
              "              style=\"display:none;\">\n",
              "        \n",
              "  <svg xmlns=\"http://www.w3.org/2000/svg\" height=\"24px\"viewBox=\"0 0 24 24\"\n",
              "       width=\"24px\">\n",
              "    <path d=\"M0 0h24v24H0V0z\" fill=\"none\"/>\n",
              "    <path d=\"M18.56 5.44l.94 2.06.94-2.06 2.06-.94-2.06-.94-.94-2.06-.94 2.06-2.06.94zm-11 1L8.5 8.5l.94-2.06 2.06-.94-2.06-.94L8.5 2.5l-.94 2.06-2.06.94zm10 10l.94 2.06.94-2.06 2.06-.94-2.06-.94-.94-2.06-.94 2.06-2.06.94z\"/><path d=\"M17.41 7.96l-1.37-1.37c-.4-.4-.92-.59-1.43-.59-.52 0-1.04.2-1.43.59L10.3 9.45l-7.72 7.72c-.78.78-.78 2.05 0 2.83L4 21.41c.39.39.9.59 1.41.59.51 0 1.02-.2 1.41-.59l7.78-7.78 2.81-2.81c.8-.78.8-2.07 0-2.86zM5.41 20L4 18.59l7.72-7.72 1.47 1.35L5.41 20z\"/>\n",
              "  </svg>\n",
              "      </button>\n",
              "      \n",
              "  <style>\n",
              "    .colab-df-container {\n",
              "      display:flex;\n",
              "      flex-wrap:wrap;\n",
              "      gap: 12px;\n",
              "    }\n",
              "\n",
              "    .colab-df-convert {\n",
              "      background-color: #E8F0FE;\n",
              "      border: none;\n",
              "      border-radius: 50%;\n",
              "      cursor: pointer;\n",
              "      display: none;\n",
              "      fill: #1967D2;\n",
              "      height: 32px;\n",
              "      padding: 0 0 0 0;\n",
              "      width: 32px;\n",
              "    }\n",
              "\n",
              "    .colab-df-convert:hover {\n",
              "      background-color: #E2EBFA;\n",
              "      box-shadow: 0px 1px 2px rgba(60, 64, 67, 0.3), 0px 1px 3px 1px rgba(60, 64, 67, 0.15);\n",
              "      fill: #174EA6;\n",
              "    }\n",
              "\n",
              "    [theme=dark] .colab-df-convert {\n",
              "      background-color: #3B4455;\n",
              "      fill: #D2E3FC;\n",
              "    }\n",
              "\n",
              "    [theme=dark] .colab-df-convert:hover {\n",
              "      background-color: #434B5C;\n",
              "      box-shadow: 0px 1px 3px 1px rgba(0, 0, 0, 0.15);\n",
              "      filter: drop-shadow(0px 1px 2px rgba(0, 0, 0, 0.3));\n",
              "      fill: #FFFFFF;\n",
              "    }\n",
              "  </style>\n",
              "\n",
              "      <script>\n",
              "        const buttonEl =\n",
              "          document.querySelector('#df-8c779187-d25b-44bd-bc44-efeac020f75e button.colab-df-convert');\n",
              "        buttonEl.style.display =\n",
              "          google.colab.kernel.accessAllowed ? 'block' : 'none';\n",
              "\n",
              "        async function convertToInteractive(key) {\n",
              "          const element = document.querySelector('#df-8c779187-d25b-44bd-bc44-efeac020f75e');\n",
              "          const dataTable =\n",
              "            await google.colab.kernel.invokeFunction('convertToInteractive',\n",
              "                                                     [key], {});\n",
              "          if (!dataTable) return;\n",
              "\n",
              "          const docLinkHtml = 'Like what you see? Visit the ' +\n",
              "            '<a target=\"_blank\" href=https://colab.research.google.com/notebooks/data_table.ipynb>data table notebook</a>'\n",
              "            + ' to learn more about interactive tables.';\n",
              "          element.innerHTML = '';\n",
              "          dataTable['output_type'] = 'display_data';\n",
              "          await google.colab.output.renderOutput(dataTable, element);\n",
              "          const docLink = document.createElement('div');\n",
              "          docLink.innerHTML = docLinkHtml;\n",
              "          element.appendChild(docLink);\n",
              "        }\n",
              "      </script>\n",
              "    </div>\n",
              "  </div>\n",
              "  "
            ]
          },
          "metadata": {},
          "execution_count": 23
        }
      ]
    },
    {
      "cell_type": "code",
      "source": [
        "import plotly.express as px\n",
        "\n",
        "# Plotando gráfico\n",
        "fig = px.line(df, y=['Real Values', 'Predicted Values'])\n",
        "fig.show()"
      ],
      "metadata": {
        "colab": {
          "base_uri": "https://localhost:8080/",
          "height": 542
        },
        "id": "X7S-hktfRWsn",
        "outputId": "31bc57b6-d8b2-4a3a-b81c-30d2f6f2c12b"
      },
      "execution_count": null,
      "outputs": [
        {
          "output_type": "display_data",
          "data": {
            "text/html": [
              "<html>\n",
              "<head><meta charset=\"utf-8\" /></head>\n",
              "<body>\n",
              "    <div>            <script src=\"https://cdnjs.cloudflare.com/ajax/libs/mathjax/2.7.5/MathJax.js?config=TeX-AMS-MML_SVG\"></script><script type=\"text/javascript\">if (window.MathJax && window.MathJax.Hub && window.MathJax.Hub.Config) {window.MathJax.Hub.Config({SVG: {font: \"STIX-Web\"}});}</script>                <script type=\"text/javascript\">window.PlotlyConfig = {MathJaxConfig: 'local'};</script>\n",
              "        <script src=\"https://cdn.plot.ly/plotly-2.18.2.min.js\"></script>                <div id=\"10d40a95-f28e-45ac-b9d3-a0e338f7e6f8\" class=\"plotly-graph-div\" style=\"height:525px; width:100%;\"></div>            <script type=\"text/javascript\">                                    window.PLOTLYENV=window.PLOTLYENV || {};                                    if (document.getElementById(\"10d40a95-f28e-45ac-b9d3-a0e338f7e6f8\")) {                    Plotly.newPlot(                        \"10d40a95-f28e-45ac-b9d3-a0e338f7e6f8\",                        [{\"hovertemplate\":\"variable=Real Values<br>index=%{x}<br>value=%{y}<extra></extra>\",\"legendgroup\":\"Real Values\",\"line\":{\"color\":\"#636efa\",\"dash\":\"solid\"},\"marker\":{\"symbol\":\"circle\"},\"mode\":\"lines\",\"name\":\"Real Values\",\"orientation\":\"v\",\"showlegend\":true,\"x\":[0,1,2,3,4,5,6,7,8,9,10,11,12,13,14,15,16,17,18,19,20,21,22,23,24,25,26,27,28,29,30,31,32,33,34,35,36],\"xaxis\":\"x\",\"y\":[4990.0,5409.0,1416.0,2455.0,3811.0,3750.0,5315.0,5130.0,6664.0,1550.0,6227.0,4191.0,7852.0,6639.0,1321.0,2417.0,4917.0,4023.0,3786.0,4966.0,4576.0,7494.0,3117.0,6591.0,4456.0,1495.0,605.0,3649.0,3907.0,7534.0,5558.0,6169.0,6966.0,3940.0,2115.0,705.0,6133.0],\"yaxis\":\"y\",\"type\":\"scatter\"},{\"hovertemplate\":\"variable=Predicted Values<br>index=%{x}<br>value=%{y}<extra></extra>\",\"legendgroup\":\"Predicted Values\",\"line\":{\"color\":\"#EF553B\",\"dash\":\"solid\"},\"marker\":{\"symbol\":\"circle\"},\"mode\":\"lines\",\"name\":\"Predicted Values\",\"orientation\":\"v\",\"showlegend\":true,\"x\":[0,1,2,3,4,5,6,7,8,9,10,11,12,13,14,15,16,17,18,19,20,21,22,23,24,25,26,27,28,29,30,31,32,33,34,35,36],\"xaxis\":\"x\",\"y\":[6572.0,6460.0,1406.0,2999.0,3570.0,3570.0,1027.0,4725.0,6290.0,1538.0,5464.0,3348.0,6299.0,6998.0,1406.0,2077.0,4844.0,3425.0,4649.0,4592.0,3574.0,7720.0,5312.0,6118.0,4195.0,2792.0,2077.0,3485.0,4120.0,7261.0,5936.0,6093.0,4549.0,3740.0,1589.0,1607.0,6457.0],\"yaxis\":\"y\",\"type\":\"scatter\"}],                        {\"template\":{\"data\":{\"histogram2dcontour\":[{\"type\":\"histogram2dcontour\",\"colorbar\":{\"outlinewidth\":0,\"ticks\":\"\"},\"colorscale\":[[0.0,\"#0d0887\"],[0.1111111111111111,\"#46039f\"],[0.2222222222222222,\"#7201a8\"],[0.3333333333333333,\"#9c179e\"],[0.4444444444444444,\"#bd3786\"],[0.5555555555555556,\"#d8576b\"],[0.6666666666666666,\"#ed7953\"],[0.7777777777777778,\"#fb9f3a\"],[0.8888888888888888,\"#fdca26\"],[1.0,\"#f0f921\"]]}],\"choropleth\":[{\"type\":\"choropleth\",\"colorbar\":{\"outlinewidth\":0,\"ticks\":\"\"}}],\"histogram2d\":[{\"type\":\"histogram2d\",\"colorbar\":{\"outlinewidth\":0,\"ticks\":\"\"},\"colorscale\":[[0.0,\"#0d0887\"],[0.1111111111111111,\"#46039f\"],[0.2222222222222222,\"#7201a8\"],[0.3333333333333333,\"#9c179e\"],[0.4444444444444444,\"#bd3786\"],[0.5555555555555556,\"#d8576b\"],[0.6666666666666666,\"#ed7953\"],[0.7777777777777778,\"#fb9f3a\"],[0.8888888888888888,\"#fdca26\"],[1.0,\"#f0f921\"]]}],\"heatmap\":[{\"type\":\"heatmap\",\"colorbar\":{\"outlinewidth\":0,\"ticks\":\"\"},\"colorscale\":[[0.0,\"#0d0887\"],[0.1111111111111111,\"#46039f\"],[0.2222222222222222,\"#7201a8\"],[0.3333333333333333,\"#9c179e\"],[0.4444444444444444,\"#bd3786\"],[0.5555555555555556,\"#d8576b\"],[0.6666666666666666,\"#ed7953\"],[0.7777777777777778,\"#fb9f3a\"],[0.8888888888888888,\"#fdca26\"],[1.0,\"#f0f921\"]]}],\"heatmapgl\":[{\"type\":\"heatmapgl\",\"colorbar\":{\"outlinewidth\":0,\"ticks\":\"\"},\"colorscale\":[[0.0,\"#0d0887\"],[0.1111111111111111,\"#46039f\"],[0.2222222222222222,\"#7201a8\"],[0.3333333333333333,\"#9c179e\"],[0.4444444444444444,\"#bd3786\"],[0.5555555555555556,\"#d8576b\"],[0.6666666666666666,\"#ed7953\"],[0.7777777777777778,\"#fb9f3a\"],[0.8888888888888888,\"#fdca26\"],[1.0,\"#f0f921\"]]}],\"contourcarpet\":[{\"type\":\"contourcarpet\",\"colorbar\":{\"outlinewidth\":0,\"ticks\":\"\"}}],\"contour\":[{\"type\":\"contour\",\"colorbar\":{\"outlinewidth\":0,\"ticks\":\"\"},\"colorscale\":[[0.0,\"#0d0887\"],[0.1111111111111111,\"#46039f\"],[0.2222222222222222,\"#7201a8\"],[0.3333333333333333,\"#9c179e\"],[0.4444444444444444,\"#bd3786\"],[0.5555555555555556,\"#d8576b\"],[0.6666666666666666,\"#ed7953\"],[0.7777777777777778,\"#fb9f3a\"],[0.8888888888888888,\"#fdca26\"],[1.0,\"#f0f921\"]]}],\"surface\":[{\"type\":\"surface\",\"colorbar\":{\"outlinewidth\":0,\"ticks\":\"\"},\"colorscale\":[[0.0,\"#0d0887\"],[0.1111111111111111,\"#46039f\"],[0.2222222222222222,\"#7201a8\"],[0.3333333333333333,\"#9c179e\"],[0.4444444444444444,\"#bd3786\"],[0.5555555555555556,\"#d8576b\"],[0.6666666666666666,\"#ed7953\"],[0.7777777777777778,\"#fb9f3a\"],[0.8888888888888888,\"#fdca26\"],[1.0,\"#f0f921\"]]}],\"mesh3d\":[{\"type\":\"mesh3d\",\"colorbar\":{\"outlinewidth\":0,\"ticks\":\"\"}}],\"scatter\":[{\"fillpattern\":{\"fillmode\":\"overlay\",\"size\":10,\"solidity\":0.2},\"type\":\"scatter\"}],\"parcoords\":[{\"type\":\"parcoords\",\"line\":{\"colorbar\":{\"outlinewidth\":0,\"ticks\":\"\"}}}],\"scatterpolargl\":[{\"type\":\"scatterpolargl\",\"marker\":{\"colorbar\":{\"outlinewidth\":0,\"ticks\":\"\"}}}],\"bar\":[{\"error_x\":{\"color\":\"#2a3f5f\"},\"error_y\":{\"color\":\"#2a3f5f\"},\"marker\":{\"line\":{\"color\":\"#E5ECF6\",\"width\":0.5},\"pattern\":{\"fillmode\":\"overlay\",\"size\":10,\"solidity\":0.2}},\"type\":\"bar\"}],\"scattergeo\":[{\"type\":\"scattergeo\",\"marker\":{\"colorbar\":{\"outlinewidth\":0,\"ticks\":\"\"}}}],\"scatterpolar\":[{\"type\":\"scatterpolar\",\"marker\":{\"colorbar\":{\"outlinewidth\":0,\"ticks\":\"\"}}}],\"histogram\":[{\"marker\":{\"pattern\":{\"fillmode\":\"overlay\",\"size\":10,\"solidity\":0.2}},\"type\":\"histogram\"}],\"scattergl\":[{\"type\":\"scattergl\",\"marker\":{\"colorbar\":{\"outlinewidth\":0,\"ticks\":\"\"}}}],\"scatter3d\":[{\"type\":\"scatter3d\",\"line\":{\"colorbar\":{\"outlinewidth\":0,\"ticks\":\"\"}},\"marker\":{\"colorbar\":{\"outlinewidth\":0,\"ticks\":\"\"}}}],\"scattermapbox\":[{\"type\":\"scattermapbox\",\"marker\":{\"colorbar\":{\"outlinewidth\":0,\"ticks\":\"\"}}}],\"scatterternary\":[{\"type\":\"scatterternary\",\"marker\":{\"colorbar\":{\"outlinewidth\":0,\"ticks\":\"\"}}}],\"scattercarpet\":[{\"type\":\"scattercarpet\",\"marker\":{\"colorbar\":{\"outlinewidth\":0,\"ticks\":\"\"}}}],\"carpet\":[{\"aaxis\":{\"endlinecolor\":\"#2a3f5f\",\"gridcolor\":\"white\",\"linecolor\":\"white\",\"minorgridcolor\":\"white\",\"startlinecolor\":\"#2a3f5f\"},\"baxis\":{\"endlinecolor\":\"#2a3f5f\",\"gridcolor\":\"white\",\"linecolor\":\"white\",\"minorgridcolor\":\"white\",\"startlinecolor\":\"#2a3f5f\"},\"type\":\"carpet\"}],\"table\":[{\"cells\":{\"fill\":{\"color\":\"#EBF0F8\"},\"line\":{\"color\":\"white\"}},\"header\":{\"fill\":{\"color\":\"#C8D4E3\"},\"line\":{\"color\":\"white\"}},\"type\":\"table\"}],\"barpolar\":[{\"marker\":{\"line\":{\"color\":\"#E5ECF6\",\"width\":0.5},\"pattern\":{\"fillmode\":\"overlay\",\"size\":10,\"solidity\":0.2}},\"type\":\"barpolar\"}],\"pie\":[{\"automargin\":true,\"type\":\"pie\"}]},\"layout\":{\"autotypenumbers\":\"strict\",\"colorway\":[\"#636efa\",\"#EF553B\",\"#00cc96\",\"#ab63fa\",\"#FFA15A\",\"#19d3f3\",\"#FF6692\",\"#B6E880\",\"#FF97FF\",\"#FECB52\"],\"font\":{\"color\":\"#2a3f5f\"},\"hovermode\":\"closest\",\"hoverlabel\":{\"align\":\"left\"},\"paper_bgcolor\":\"white\",\"plot_bgcolor\":\"#E5ECF6\",\"polar\":{\"bgcolor\":\"#E5ECF6\",\"angularaxis\":{\"gridcolor\":\"white\",\"linecolor\":\"white\",\"ticks\":\"\"},\"radialaxis\":{\"gridcolor\":\"white\",\"linecolor\":\"white\",\"ticks\":\"\"}},\"ternary\":{\"bgcolor\":\"#E5ECF6\",\"aaxis\":{\"gridcolor\":\"white\",\"linecolor\":\"white\",\"ticks\":\"\"},\"baxis\":{\"gridcolor\":\"white\",\"linecolor\":\"white\",\"ticks\":\"\"},\"caxis\":{\"gridcolor\":\"white\",\"linecolor\":\"white\",\"ticks\":\"\"}},\"coloraxis\":{\"colorbar\":{\"outlinewidth\":0,\"ticks\":\"\"}},\"colorscale\":{\"sequential\":[[0.0,\"#0d0887\"],[0.1111111111111111,\"#46039f\"],[0.2222222222222222,\"#7201a8\"],[0.3333333333333333,\"#9c179e\"],[0.4444444444444444,\"#bd3786\"],[0.5555555555555556,\"#d8576b\"],[0.6666666666666666,\"#ed7953\"],[0.7777777777777778,\"#fb9f3a\"],[0.8888888888888888,\"#fdca26\"],[1.0,\"#f0f921\"]],\"sequentialminus\":[[0.0,\"#0d0887\"],[0.1111111111111111,\"#46039f\"],[0.2222222222222222,\"#7201a8\"],[0.3333333333333333,\"#9c179e\"],[0.4444444444444444,\"#bd3786\"],[0.5555555555555556,\"#d8576b\"],[0.6666666666666666,\"#ed7953\"],[0.7777777777777778,\"#fb9f3a\"],[0.8888888888888888,\"#fdca26\"],[1.0,\"#f0f921\"]],\"diverging\":[[0,\"#8e0152\"],[0.1,\"#c51b7d\"],[0.2,\"#de77ae\"],[0.3,\"#f1b6da\"],[0.4,\"#fde0ef\"],[0.5,\"#f7f7f7\"],[0.6,\"#e6f5d0\"],[0.7,\"#b8e186\"],[0.8,\"#7fbc41\"],[0.9,\"#4d9221\"],[1,\"#276419\"]]},\"xaxis\":{\"gridcolor\":\"white\",\"linecolor\":\"white\",\"ticks\":\"\",\"title\":{\"standoff\":15},\"zerolinecolor\":\"white\",\"automargin\":true,\"zerolinewidth\":2},\"yaxis\":{\"gridcolor\":\"white\",\"linecolor\":\"white\",\"ticks\":\"\",\"title\":{\"standoff\":15},\"zerolinecolor\":\"white\",\"automargin\":true,\"zerolinewidth\":2},\"scene\":{\"xaxis\":{\"backgroundcolor\":\"#E5ECF6\",\"gridcolor\":\"white\",\"linecolor\":\"white\",\"showbackground\":true,\"ticks\":\"\",\"zerolinecolor\":\"white\",\"gridwidth\":2},\"yaxis\":{\"backgroundcolor\":\"#E5ECF6\",\"gridcolor\":\"white\",\"linecolor\":\"white\",\"showbackground\":true,\"ticks\":\"\",\"zerolinecolor\":\"white\",\"gridwidth\":2},\"zaxis\":{\"backgroundcolor\":\"#E5ECF6\",\"gridcolor\":\"white\",\"linecolor\":\"white\",\"showbackground\":true,\"ticks\":\"\",\"zerolinecolor\":\"white\",\"gridwidth\":2}},\"shapedefaults\":{\"line\":{\"color\":\"#2a3f5f\"}},\"annotationdefaults\":{\"arrowcolor\":\"#2a3f5f\",\"arrowhead\":0,\"arrowwidth\":1},\"geo\":{\"bgcolor\":\"white\",\"landcolor\":\"#E5ECF6\",\"subunitcolor\":\"white\",\"showland\":true,\"showlakes\":true,\"lakecolor\":\"white\"},\"title\":{\"x\":0.05},\"mapbox\":{\"style\":\"light\"}}},\"xaxis\":{\"anchor\":\"y\",\"domain\":[0.0,1.0],\"title\":{\"text\":\"index\"}},\"yaxis\":{\"anchor\":\"x\",\"domain\":[0.0,1.0],\"title\":{\"text\":\"value\"}},\"legend\":{\"title\":{\"text\":\"variable\"},\"tracegroupgap\":0},\"margin\":{\"t\":60}},                        {\"responsive\": true}                    ).then(function(){\n",
              "                            \n",
              "var gd = document.getElementById('10d40a95-f28e-45ac-b9d3-a0e338f7e6f8');\n",
              "var x = new MutationObserver(function (mutations, observer) {{\n",
              "        var display = window.getComputedStyle(gd).display;\n",
              "        if (!display || display === 'none') {{\n",
              "            console.log([gd, 'removed!']);\n",
              "            Plotly.purge(gd);\n",
              "            observer.disconnect();\n",
              "        }}\n",
              "}});\n",
              "\n",
              "// Listen for the removal of the full notebook cells\n",
              "var notebookContainer = gd.closest('#notebook-container');\n",
              "if (notebookContainer) {{\n",
              "    x.observe(notebookContainer, {childList: true});\n",
              "}}\n",
              "\n",
              "// Listen for the clearing of the current output cell\n",
              "var outputEl = gd.closest('.output');\n",
              "if (outputEl) {{\n",
              "    x.observe(outputEl, {childList: true});\n",
              "}}\n",
              "\n",
              "                        })                };                            </script>        </div>\n",
              "</body>\n",
              "</html>"
            ]
          },
          "metadata": {}
        }
      ]
    },
    {
      "cell_type": "markdown",
      "source": [
        "# <font color=yellow>**Parte 3**: Avaliação de desempenho"
      ],
      "metadata": {
        "id": "RFoyCgTA4emp"
      }
    },
    {
      "cell_type": "markdown",
      "source": [
        "Principais métricas para avaliação de desempenho de um modelo de regressão:\n",
        "\n",
        "* **R² (Coeficiente de Determinação)** - varia de 0 a 1 e representa a proporção da variabilidade na variável dependente que pode ser explicada pelo modelo.\n",
        "* **MAE (Erro Absoluto Médio)** - avalia a precisão de um modelo prever os dados já observados, sendo a média das diferenças absolutas entre as previsões do modelo e os valores reais.\n",
        "* **MSE (Erro Quadrático Médio)** - também avalia a precisão do modelo, sendo calculado a partir da média das diferenças ao quadrado entre os valores previstos e os valores reais, penalizando mais erros maiores.\n",
        "* **RMSE (Raiz do Erro Quadrático Médio)** - é a raiz quadrada do MSE, tornando-se assim uma métrica mais fácil de ser interpretar, já que fica na mesma unidade que o dado original."
      ],
      "metadata": {
        "id": "ZyKt0OHw5Ym8"
      }
    },
    {
      "cell_type": "code",
      "source": [
        "from sklearn.metrics import mean_absolute_error, mean_squared_error, r2_score\n",
        "import numpy as np\n",
        "\n",
        "# Calculando R²\n",
        "r2 = r2_score(y_test, y_pred)\n",
        "\n",
        "# Calculando MAE\n",
        "mae = mean_absolute_error(y_test, y_pred)\n",
        "\n",
        "# Calculando MSE\n",
        "mse = mean_squared_error(y_test, y_pred)\n",
        "\n",
        "# Calculando RMSE\n",
        "rmse = np.sqrt(mse)\n",
        "\n",
        "print('R2:', r2)\n",
        "print('MAE:', mae)\n",
        "print('MSE:', mse)\n",
        "print('RMSE:', rmse)"
      ],
      "metadata": {
        "colab": {
          "base_uri": "https://localhost:8080/"
        },
        "id": "mEU7ou1NZZNS",
        "outputId": "c90925eb-48f6-4be9-deee-237735cc6eba"
      },
      "execution_count": null,
      "outputs": [
        {
          "output_type": "stream",
          "name": "stdout",
          "text": [
            "R2: 0.691824486917054\n",
            "MAE: 728.027027027027\n",
            "MSE: 1223656.4594594594\n",
            "RMSE: 1106.1900647987486\n"
          ]
        }
      ]
    },
    {
      "cell_type": "markdown",
      "source": [
        "Um dos principais problemas do algoritmo da Árvore de Decisão é o **OVERFITTING**: \n",
        "- Quando na base de treino o modelo tem um bom desempenho, mas na base de teste tem um desempenho ruim\n",
        "- O modelo se ajustou de forma tão precisa aos dados de treinamento que aprende o ruído aleatório dos dados, mas não generaliza bem para novos dados.\n",
        "\n"
      ],
      "metadata": {
        "id": "KCHZrhc3xFzu"
      }
    },
    {
      "cell_type": "markdown",
      "source": [
        "# <font color=yellow>**Parte 4**: Aplicação do algoritmo RandomForest"
      ],
      "metadata": {
        "id": "3CuCNyLsWXT6"
      }
    },
    {
      "cell_type": "markdown",
      "source": [
        "Parâmetros:\n",
        "- n_estimators: número de árvores na floresta\n",
        "- max_features: número máximo de recursos considerados para dividir um nó\n",
        "- max_depth: número máximo de níveis em cada árvore de decisão\n",
        "- random_state: semente usada para gerar números aleatórios durante a execução do modelo"
      ],
      "metadata": {
        "id": "W4oj-glz_Jfn"
      }
    },
    {
      "cell_type": "code",
      "source": [
        "from sklearn.ensemble import RandomForestRegressor\n",
        "\n",
        "# Criando a classe RandomForestRegressor()\n",
        "rf_regressor = RandomForestRegressor(n_estimators = 300, max_features = 'sqrt', max_depth = 5, random_state = 18)\n",
        "\n",
        "# Ajustando o algoritmo a base de dados\n",
        "rf_regressor.fit(X_train, y_train)\n",
        "\n",
        "# Prevendo os resultados\n",
        "y_pred = rf_regressor.predict(X_test)"
      ],
      "metadata": {
        "id": "hdFbN4VyS_Jg"
      },
      "execution_count": null,
      "outputs": []
    },
    {
      "cell_type": "code",
      "source": [
        "# Comparando os valores reais com os valores previstos\n",
        "df = pd.DataFrame({'Real Values':y_test, 'Predicted Values':y_pred})\n",
        "df.head()"
      ],
      "metadata": {
        "colab": {
          "base_uri": "https://localhost:8080/",
          "height": 206
        },
        "id": "oLtrRL_2V17Z",
        "outputId": "a80ad061-e2f6-4708-9375-521612ee20ab"
      },
      "execution_count": null,
      "outputs": [
        {
          "output_type": "execute_result",
          "data": {
            "text/plain": [
              "   Real Values  Predicted Values\n",
              "0         4990       5634.898008\n",
              "1         5409       4950.054576\n",
              "2         1416       1586.707597\n",
              "3         2455       2748.456218\n",
              "4         3811       3561.415500"
            ],
            "text/html": [
              "\n",
              "  <div id=\"df-22fc2df3-14db-4358-b032-8dfb18306f63\">\n",
              "    <div class=\"colab-df-container\">\n",
              "      <div>\n",
              "<style scoped>\n",
              "    .dataframe tbody tr th:only-of-type {\n",
              "        vertical-align: middle;\n",
              "    }\n",
              "\n",
              "    .dataframe tbody tr th {\n",
              "        vertical-align: top;\n",
              "    }\n",
              "\n",
              "    .dataframe thead th {\n",
              "        text-align: right;\n",
              "    }\n",
              "</style>\n",
              "<table border=\"1\" class=\"dataframe\">\n",
              "  <thead>\n",
              "    <tr style=\"text-align: right;\">\n",
              "      <th></th>\n",
              "      <th>Real Values</th>\n",
              "      <th>Predicted Values</th>\n",
              "    </tr>\n",
              "  </thead>\n",
              "  <tbody>\n",
              "    <tr>\n",
              "      <th>0</th>\n",
              "      <td>4990</td>\n",
              "      <td>5634.898008</td>\n",
              "    </tr>\n",
              "    <tr>\n",
              "      <th>1</th>\n",
              "      <td>5409</td>\n",
              "      <td>4950.054576</td>\n",
              "    </tr>\n",
              "    <tr>\n",
              "      <th>2</th>\n",
              "      <td>1416</td>\n",
              "      <td>1586.707597</td>\n",
              "    </tr>\n",
              "    <tr>\n",
              "      <th>3</th>\n",
              "      <td>2455</td>\n",
              "      <td>2748.456218</td>\n",
              "    </tr>\n",
              "    <tr>\n",
              "      <th>4</th>\n",
              "      <td>3811</td>\n",
              "      <td>3561.415500</td>\n",
              "    </tr>\n",
              "  </tbody>\n",
              "</table>\n",
              "</div>\n",
              "      <button class=\"colab-df-convert\" onclick=\"convertToInteractive('df-22fc2df3-14db-4358-b032-8dfb18306f63')\"\n",
              "              title=\"Convert this dataframe to an interactive table.\"\n",
              "              style=\"display:none;\">\n",
              "        \n",
              "  <svg xmlns=\"http://www.w3.org/2000/svg\" height=\"24px\"viewBox=\"0 0 24 24\"\n",
              "       width=\"24px\">\n",
              "    <path d=\"M0 0h24v24H0V0z\" fill=\"none\"/>\n",
              "    <path d=\"M18.56 5.44l.94 2.06.94-2.06 2.06-.94-2.06-.94-.94-2.06-.94 2.06-2.06.94zm-11 1L8.5 8.5l.94-2.06 2.06-.94-2.06-.94L8.5 2.5l-.94 2.06-2.06.94zm10 10l.94 2.06.94-2.06 2.06-.94-2.06-.94-.94-2.06-.94 2.06-2.06.94z\"/><path d=\"M17.41 7.96l-1.37-1.37c-.4-.4-.92-.59-1.43-.59-.52 0-1.04.2-1.43.59L10.3 9.45l-7.72 7.72c-.78.78-.78 2.05 0 2.83L4 21.41c.39.39.9.59 1.41.59.51 0 1.02-.2 1.41-.59l7.78-7.78 2.81-2.81c.8-.78.8-2.07 0-2.86zM5.41 20L4 18.59l7.72-7.72 1.47 1.35L5.41 20z\"/>\n",
              "  </svg>\n",
              "      </button>\n",
              "      \n",
              "  <style>\n",
              "    .colab-df-container {\n",
              "      display:flex;\n",
              "      flex-wrap:wrap;\n",
              "      gap: 12px;\n",
              "    }\n",
              "\n",
              "    .colab-df-convert {\n",
              "      background-color: #E8F0FE;\n",
              "      border: none;\n",
              "      border-radius: 50%;\n",
              "      cursor: pointer;\n",
              "      display: none;\n",
              "      fill: #1967D2;\n",
              "      height: 32px;\n",
              "      padding: 0 0 0 0;\n",
              "      width: 32px;\n",
              "    }\n",
              "\n",
              "    .colab-df-convert:hover {\n",
              "      background-color: #E2EBFA;\n",
              "      box-shadow: 0px 1px 2px rgba(60, 64, 67, 0.3), 0px 1px 3px 1px rgba(60, 64, 67, 0.15);\n",
              "      fill: #174EA6;\n",
              "    }\n",
              "\n",
              "    [theme=dark] .colab-df-convert {\n",
              "      background-color: #3B4455;\n",
              "      fill: #D2E3FC;\n",
              "    }\n",
              "\n",
              "    [theme=dark] .colab-df-convert:hover {\n",
              "      background-color: #434B5C;\n",
              "      box-shadow: 0px 1px 3px 1px rgba(0, 0, 0, 0.15);\n",
              "      filter: drop-shadow(0px 1px 2px rgba(0, 0, 0, 0.3));\n",
              "      fill: #FFFFFF;\n",
              "    }\n",
              "  </style>\n",
              "\n",
              "      <script>\n",
              "        const buttonEl =\n",
              "          document.querySelector('#df-22fc2df3-14db-4358-b032-8dfb18306f63 button.colab-df-convert');\n",
              "        buttonEl.style.display =\n",
              "          google.colab.kernel.accessAllowed ? 'block' : 'none';\n",
              "\n",
              "        async function convertToInteractive(key) {\n",
              "          const element = document.querySelector('#df-22fc2df3-14db-4358-b032-8dfb18306f63');\n",
              "          const dataTable =\n",
              "            await google.colab.kernel.invokeFunction('convertToInteractive',\n",
              "                                                     [key], {});\n",
              "          if (!dataTable) return;\n",
              "\n",
              "          const docLinkHtml = 'Like what you see? Visit the ' +\n",
              "            '<a target=\"_blank\" href=https://colab.research.google.com/notebooks/data_table.ipynb>data table notebook</a>'\n",
              "            + ' to learn more about interactive tables.';\n",
              "          element.innerHTML = '';\n",
              "          dataTable['output_type'] = 'display_data';\n",
              "          await google.colab.output.renderOutput(dataTable, element);\n",
              "          const docLink = document.createElement('div');\n",
              "          docLink.innerHTML = docLinkHtml;\n",
              "          element.appendChild(docLink);\n",
              "        }\n",
              "      </script>\n",
              "    </div>\n",
              "  </div>\n",
              "  "
            ]
          },
          "metadata": {},
          "execution_count": 27
        }
      ]
    },
    {
      "cell_type": "code",
      "source": [
        "# Plotando gráfico\n",
        "fig = px.line(df, y=['Real Values', 'Predicted Values'])\n",
        "fig.show()"
      ],
      "metadata": {
        "colab": {
          "base_uri": "https://localhost:8080/",
          "height": 542
        },
        "id": "ACiWg9DUV8uc",
        "outputId": "94653772-a940-4d51-c371-c5437e1f3c46"
      },
      "execution_count": null,
      "outputs": [
        {
          "output_type": "display_data",
          "data": {
            "text/html": [
              "<html>\n",
              "<head><meta charset=\"utf-8\" /></head>\n",
              "<body>\n",
              "    <div>            <script src=\"https://cdnjs.cloudflare.com/ajax/libs/mathjax/2.7.5/MathJax.js?config=TeX-AMS-MML_SVG\"></script><script type=\"text/javascript\">if (window.MathJax && window.MathJax.Hub && window.MathJax.Hub.Config) {window.MathJax.Hub.Config({SVG: {font: \"STIX-Web\"}});}</script>                <script type=\"text/javascript\">window.PlotlyConfig = {MathJaxConfig: 'local'};</script>\n",
              "        <script src=\"https://cdn.plot.ly/plotly-2.18.2.min.js\"></script>                <div id=\"ac502973-7909-44f6-8757-92da56565924\" class=\"plotly-graph-div\" style=\"height:525px; width:100%;\"></div>            <script type=\"text/javascript\">                                    window.PLOTLYENV=window.PLOTLYENV || {};                                    if (document.getElementById(\"ac502973-7909-44f6-8757-92da56565924\")) {                    Plotly.newPlot(                        \"ac502973-7909-44f6-8757-92da56565924\",                        [{\"hovertemplate\":\"variable=Real Values<br>index=%{x}<br>value=%{y}<extra></extra>\",\"legendgroup\":\"Real Values\",\"line\":{\"color\":\"#636efa\",\"dash\":\"solid\"},\"marker\":{\"symbol\":\"circle\"},\"mode\":\"lines\",\"name\":\"Real Values\",\"orientation\":\"v\",\"showlegend\":true,\"x\":[0,1,2,3,4,5,6,7,8,9,10,11,12,13,14,15,16,17,18,19,20,21,22,23,24,25,26,27,28,29,30,31,32,33,34,35,36],\"xaxis\":\"x\",\"y\":[4990.0,5409.0,1416.0,2455.0,3811.0,3750.0,5315.0,5130.0,6664.0,1550.0,6227.0,4191.0,7852.0,6639.0,1321.0,2417.0,4917.0,4023.0,3786.0,4966.0,4576.0,7494.0,3117.0,6591.0,4456.0,1495.0,605.0,3649.0,3907.0,7534.0,5558.0,6169.0,6966.0,3940.0,2115.0,705.0,6133.0],\"yaxis\":\"y\",\"type\":\"scatter\"},{\"hovertemplate\":\"variable=Predicted Values<br>index=%{x}<br>value=%{y}<extra></extra>\",\"legendgroup\":\"Predicted Values\",\"line\":{\"color\":\"#EF553B\",\"dash\":\"solid\"},\"marker\":{\"symbol\":\"circle\"},\"mode\":\"lines\",\"name\":\"Predicted Values\",\"orientation\":\"v\",\"showlegend\":true,\"x\":[0,1,2,3,4,5,6,7,8,9,10,11,12,13,14,15,16,17,18,19,20,21,22,23,24,25,26,27,28,29,30,31,32,33,34,35,36],\"xaxis\":\"x\",\"y\":[5634.898007828767,4950.054576079666,1586.7075965198676,2748.456218025249,3561.4155003585015,3748.540277252839,4604.062273076103,4940.355956846402,6032.101585904539,1652.5814922718941,6447.073816653751,4334.641317989542,6039.798137123143,6560.42212571377,1599.845258622622,2319.757671330866,4824.966902347501,3457.042741482243,4376.630861769522,4937.35142525621,4544.784954454765,6638.89649900934,3841.3501433954125,6423.349363817275,4663.505235574997,3775.2147137065067,2058.575314890398,3731.640380268225,4345.996770934162,6486.987385297239,5309.347378626851,6240.8962813441285,6508.0744849455505,3772.0138822772774,2183.4206054369292,2657.3598615019487,6113.061764898492],\"yaxis\":\"y\",\"type\":\"scatter\"}],                        {\"template\":{\"data\":{\"histogram2dcontour\":[{\"type\":\"histogram2dcontour\",\"colorbar\":{\"outlinewidth\":0,\"ticks\":\"\"},\"colorscale\":[[0.0,\"#0d0887\"],[0.1111111111111111,\"#46039f\"],[0.2222222222222222,\"#7201a8\"],[0.3333333333333333,\"#9c179e\"],[0.4444444444444444,\"#bd3786\"],[0.5555555555555556,\"#d8576b\"],[0.6666666666666666,\"#ed7953\"],[0.7777777777777778,\"#fb9f3a\"],[0.8888888888888888,\"#fdca26\"],[1.0,\"#f0f921\"]]}],\"choropleth\":[{\"type\":\"choropleth\",\"colorbar\":{\"outlinewidth\":0,\"ticks\":\"\"}}],\"histogram2d\":[{\"type\":\"histogram2d\",\"colorbar\":{\"outlinewidth\":0,\"ticks\":\"\"},\"colorscale\":[[0.0,\"#0d0887\"],[0.1111111111111111,\"#46039f\"],[0.2222222222222222,\"#7201a8\"],[0.3333333333333333,\"#9c179e\"],[0.4444444444444444,\"#bd3786\"],[0.5555555555555556,\"#d8576b\"],[0.6666666666666666,\"#ed7953\"],[0.7777777777777778,\"#fb9f3a\"],[0.8888888888888888,\"#fdca26\"],[1.0,\"#f0f921\"]]}],\"heatmap\":[{\"type\":\"heatmap\",\"colorbar\":{\"outlinewidth\":0,\"ticks\":\"\"},\"colorscale\":[[0.0,\"#0d0887\"],[0.1111111111111111,\"#46039f\"],[0.2222222222222222,\"#7201a8\"],[0.3333333333333333,\"#9c179e\"],[0.4444444444444444,\"#bd3786\"],[0.5555555555555556,\"#d8576b\"],[0.6666666666666666,\"#ed7953\"],[0.7777777777777778,\"#fb9f3a\"],[0.8888888888888888,\"#fdca26\"],[1.0,\"#f0f921\"]]}],\"heatmapgl\":[{\"type\":\"heatmapgl\",\"colorbar\":{\"outlinewidth\":0,\"ticks\":\"\"},\"colorscale\":[[0.0,\"#0d0887\"],[0.1111111111111111,\"#46039f\"],[0.2222222222222222,\"#7201a8\"],[0.3333333333333333,\"#9c179e\"],[0.4444444444444444,\"#bd3786\"],[0.5555555555555556,\"#d8576b\"],[0.6666666666666666,\"#ed7953\"],[0.7777777777777778,\"#fb9f3a\"],[0.8888888888888888,\"#fdca26\"],[1.0,\"#f0f921\"]]}],\"contourcarpet\":[{\"type\":\"contourcarpet\",\"colorbar\":{\"outlinewidth\":0,\"ticks\":\"\"}}],\"contour\":[{\"type\":\"contour\",\"colorbar\":{\"outlinewidth\":0,\"ticks\":\"\"},\"colorscale\":[[0.0,\"#0d0887\"],[0.1111111111111111,\"#46039f\"],[0.2222222222222222,\"#7201a8\"],[0.3333333333333333,\"#9c179e\"],[0.4444444444444444,\"#bd3786\"],[0.5555555555555556,\"#d8576b\"],[0.6666666666666666,\"#ed7953\"],[0.7777777777777778,\"#fb9f3a\"],[0.8888888888888888,\"#fdca26\"],[1.0,\"#f0f921\"]]}],\"surface\":[{\"type\":\"surface\",\"colorbar\":{\"outlinewidth\":0,\"ticks\":\"\"},\"colorscale\":[[0.0,\"#0d0887\"],[0.1111111111111111,\"#46039f\"],[0.2222222222222222,\"#7201a8\"],[0.3333333333333333,\"#9c179e\"],[0.4444444444444444,\"#bd3786\"],[0.5555555555555556,\"#d8576b\"],[0.6666666666666666,\"#ed7953\"],[0.7777777777777778,\"#fb9f3a\"],[0.8888888888888888,\"#fdca26\"],[1.0,\"#f0f921\"]]}],\"mesh3d\":[{\"type\":\"mesh3d\",\"colorbar\":{\"outlinewidth\":0,\"ticks\":\"\"}}],\"scatter\":[{\"fillpattern\":{\"fillmode\":\"overlay\",\"size\":10,\"solidity\":0.2},\"type\":\"scatter\"}],\"parcoords\":[{\"type\":\"parcoords\",\"line\":{\"colorbar\":{\"outlinewidth\":0,\"ticks\":\"\"}}}],\"scatterpolargl\":[{\"type\":\"scatterpolargl\",\"marker\":{\"colorbar\":{\"outlinewidth\":0,\"ticks\":\"\"}}}],\"bar\":[{\"error_x\":{\"color\":\"#2a3f5f\"},\"error_y\":{\"color\":\"#2a3f5f\"},\"marker\":{\"line\":{\"color\":\"#E5ECF6\",\"width\":0.5},\"pattern\":{\"fillmode\":\"overlay\",\"size\":10,\"solidity\":0.2}},\"type\":\"bar\"}],\"scattergeo\":[{\"type\":\"scattergeo\",\"marker\":{\"colorbar\":{\"outlinewidth\":0,\"ticks\":\"\"}}}],\"scatterpolar\":[{\"type\":\"scatterpolar\",\"marker\":{\"colorbar\":{\"outlinewidth\":0,\"ticks\":\"\"}}}],\"histogram\":[{\"marker\":{\"pattern\":{\"fillmode\":\"overlay\",\"size\":10,\"solidity\":0.2}},\"type\":\"histogram\"}],\"scattergl\":[{\"type\":\"scattergl\",\"marker\":{\"colorbar\":{\"outlinewidth\":0,\"ticks\":\"\"}}}],\"scatter3d\":[{\"type\":\"scatter3d\",\"line\":{\"colorbar\":{\"outlinewidth\":0,\"ticks\":\"\"}},\"marker\":{\"colorbar\":{\"outlinewidth\":0,\"ticks\":\"\"}}}],\"scattermapbox\":[{\"type\":\"scattermapbox\",\"marker\":{\"colorbar\":{\"outlinewidth\":0,\"ticks\":\"\"}}}],\"scatterternary\":[{\"type\":\"scatterternary\",\"marker\":{\"colorbar\":{\"outlinewidth\":0,\"ticks\":\"\"}}}],\"scattercarpet\":[{\"type\":\"scattercarpet\",\"marker\":{\"colorbar\":{\"outlinewidth\":0,\"ticks\":\"\"}}}],\"carpet\":[{\"aaxis\":{\"endlinecolor\":\"#2a3f5f\",\"gridcolor\":\"white\",\"linecolor\":\"white\",\"minorgridcolor\":\"white\",\"startlinecolor\":\"#2a3f5f\"},\"baxis\":{\"endlinecolor\":\"#2a3f5f\",\"gridcolor\":\"white\",\"linecolor\":\"white\",\"minorgridcolor\":\"white\",\"startlinecolor\":\"#2a3f5f\"},\"type\":\"carpet\"}],\"table\":[{\"cells\":{\"fill\":{\"color\":\"#EBF0F8\"},\"line\":{\"color\":\"white\"}},\"header\":{\"fill\":{\"color\":\"#C8D4E3\"},\"line\":{\"color\":\"white\"}},\"type\":\"table\"}],\"barpolar\":[{\"marker\":{\"line\":{\"color\":\"#E5ECF6\",\"width\":0.5},\"pattern\":{\"fillmode\":\"overlay\",\"size\":10,\"solidity\":0.2}},\"type\":\"barpolar\"}],\"pie\":[{\"automargin\":true,\"type\":\"pie\"}]},\"layout\":{\"autotypenumbers\":\"strict\",\"colorway\":[\"#636efa\",\"#EF553B\",\"#00cc96\",\"#ab63fa\",\"#FFA15A\",\"#19d3f3\",\"#FF6692\",\"#B6E880\",\"#FF97FF\",\"#FECB52\"],\"font\":{\"color\":\"#2a3f5f\"},\"hovermode\":\"closest\",\"hoverlabel\":{\"align\":\"left\"},\"paper_bgcolor\":\"white\",\"plot_bgcolor\":\"#E5ECF6\",\"polar\":{\"bgcolor\":\"#E5ECF6\",\"angularaxis\":{\"gridcolor\":\"white\",\"linecolor\":\"white\",\"ticks\":\"\"},\"radialaxis\":{\"gridcolor\":\"white\",\"linecolor\":\"white\",\"ticks\":\"\"}},\"ternary\":{\"bgcolor\":\"#E5ECF6\",\"aaxis\":{\"gridcolor\":\"white\",\"linecolor\":\"white\",\"ticks\":\"\"},\"baxis\":{\"gridcolor\":\"white\",\"linecolor\":\"white\",\"ticks\":\"\"},\"caxis\":{\"gridcolor\":\"white\",\"linecolor\":\"white\",\"ticks\":\"\"}},\"coloraxis\":{\"colorbar\":{\"outlinewidth\":0,\"ticks\":\"\"}},\"colorscale\":{\"sequential\":[[0.0,\"#0d0887\"],[0.1111111111111111,\"#46039f\"],[0.2222222222222222,\"#7201a8\"],[0.3333333333333333,\"#9c179e\"],[0.4444444444444444,\"#bd3786\"],[0.5555555555555556,\"#d8576b\"],[0.6666666666666666,\"#ed7953\"],[0.7777777777777778,\"#fb9f3a\"],[0.8888888888888888,\"#fdca26\"],[1.0,\"#f0f921\"]],\"sequentialminus\":[[0.0,\"#0d0887\"],[0.1111111111111111,\"#46039f\"],[0.2222222222222222,\"#7201a8\"],[0.3333333333333333,\"#9c179e\"],[0.4444444444444444,\"#bd3786\"],[0.5555555555555556,\"#d8576b\"],[0.6666666666666666,\"#ed7953\"],[0.7777777777777778,\"#fb9f3a\"],[0.8888888888888888,\"#fdca26\"],[1.0,\"#f0f921\"]],\"diverging\":[[0,\"#8e0152\"],[0.1,\"#c51b7d\"],[0.2,\"#de77ae\"],[0.3,\"#f1b6da\"],[0.4,\"#fde0ef\"],[0.5,\"#f7f7f7\"],[0.6,\"#e6f5d0\"],[0.7,\"#b8e186\"],[0.8,\"#7fbc41\"],[0.9,\"#4d9221\"],[1,\"#276419\"]]},\"xaxis\":{\"gridcolor\":\"white\",\"linecolor\":\"white\",\"ticks\":\"\",\"title\":{\"standoff\":15},\"zerolinecolor\":\"white\",\"automargin\":true,\"zerolinewidth\":2},\"yaxis\":{\"gridcolor\":\"white\",\"linecolor\":\"white\",\"ticks\":\"\",\"title\":{\"standoff\":15},\"zerolinecolor\":\"white\",\"automargin\":true,\"zerolinewidth\":2},\"scene\":{\"xaxis\":{\"backgroundcolor\":\"#E5ECF6\",\"gridcolor\":\"white\",\"linecolor\":\"white\",\"showbackground\":true,\"ticks\":\"\",\"zerolinecolor\":\"white\",\"gridwidth\":2},\"yaxis\":{\"backgroundcolor\":\"#E5ECF6\",\"gridcolor\":\"white\",\"linecolor\":\"white\",\"showbackground\":true,\"ticks\":\"\",\"zerolinecolor\":\"white\",\"gridwidth\":2},\"zaxis\":{\"backgroundcolor\":\"#E5ECF6\",\"gridcolor\":\"white\",\"linecolor\":\"white\",\"showbackground\":true,\"ticks\":\"\",\"zerolinecolor\":\"white\",\"gridwidth\":2}},\"shapedefaults\":{\"line\":{\"color\":\"#2a3f5f\"}},\"annotationdefaults\":{\"arrowcolor\":\"#2a3f5f\",\"arrowhead\":0,\"arrowwidth\":1},\"geo\":{\"bgcolor\":\"white\",\"landcolor\":\"#E5ECF6\",\"subunitcolor\":\"white\",\"showland\":true,\"showlakes\":true,\"lakecolor\":\"white\"},\"title\":{\"x\":0.05},\"mapbox\":{\"style\":\"light\"}}},\"xaxis\":{\"anchor\":\"y\",\"domain\":[0.0,1.0],\"title\":{\"text\":\"index\"}},\"yaxis\":{\"anchor\":\"x\",\"domain\":[0.0,1.0],\"title\":{\"text\":\"value\"}},\"legend\":{\"title\":{\"text\":\"variable\"},\"tracegroupgap\":0},\"margin\":{\"t\":60}},                        {\"responsive\": true}                    ).then(function(){\n",
              "                            \n",
              "var gd = document.getElementById('ac502973-7909-44f6-8757-92da56565924');\n",
              "var x = new MutationObserver(function (mutations, observer) {{\n",
              "        var display = window.getComputedStyle(gd).display;\n",
              "        if (!display || display === 'none') {{\n",
              "            console.log([gd, 'removed!']);\n",
              "            Plotly.purge(gd);\n",
              "            observer.disconnect();\n",
              "        }}\n",
              "}});\n",
              "\n",
              "// Listen for the removal of the full notebook cells\n",
              "var notebookContainer = gd.closest('#notebook-container');\n",
              "if (notebookContainer) {{\n",
              "    x.observe(notebookContainer, {childList: true});\n",
              "}}\n",
              "\n",
              "// Listen for the clearing of the current output cell\n",
              "var outputEl = gd.closest('.output');\n",
              "if (outputEl) {{\n",
              "    x.observe(outputEl, {childList: true});\n",
              "}}\n",
              "\n",
              "                        })                };                            </script>        </div>\n",
              "</body>\n",
              "</html>"
            ]
          },
          "metadata": {}
        }
      ]
    },
    {
      "cell_type": "markdown",
      "source": [
        "# <font color=yellow>**Parte 5**: Avaliação de desempenho"
      ],
      "metadata": {
        "id": "3PgRJpTb4ttt"
      }
    },
    {
      "cell_type": "code",
      "source": [
        "# Calculando R²\n",
        "r2 = r2_score(y_test, y_pred)\n",
        "\n",
        "# Calculando MAE\n",
        "mae = mean_absolute_error(y_test, y_pred)\n",
        "\n",
        "# Calculando MSE\n",
        "mse = mean_squared_error(y_test, y_pred)\n",
        "\n",
        "# Calculando RMSE\n",
        "rmse = np.sqrt(mse)\n",
        "\n",
        "print('R2:', r2)\n",
        "print('MAE:', mae)\n",
        "print('MSE:', mse)\n",
        "print('RMSE:', rmse)"
      ],
      "metadata": {
        "colab": {
          "base_uri": "https://localhost:8080/"
        },
        "id": "DdmUvoSzTKRZ",
        "outputId": "2125f76b-9963-4069-ee51-2ed1b912f3f1"
      },
      "execution_count": null,
      "outputs": [
        {
          "output_type": "stream",
          "name": "stdout",
          "text": [
            "R2: 0.8642877210224856\n",
            "MAE: 476.686729476631\n",
            "MSE: 538865.6779946786\n",
            "RMSE: 734.0747087283954\n"
          ]
        }
      ]
    }
  ]
}